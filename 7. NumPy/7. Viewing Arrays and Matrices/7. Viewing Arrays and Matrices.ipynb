{
 "cells": [
  {
   "cell_type": "markdown",
   "metadata": {},
   "source": [
    "# viewing arrays and matrices"
   ]
  },
  {
   "cell_type": "code",
   "execution_count": 2,
   "metadata": {},
   "outputs": [],
   "source": [
    "# let we have to find unique num in our array"
   ]
  },
  {
   "cell_type": "code",
   "execution_count": 3,
   "metadata": {},
   "outputs": [],
   "source": [
    "import numpy as np"
   ]
  },
  {
   "cell_type": "code",
   "execution_count": 5,
   "metadata": {},
   "outputs": [
    {
     "data": {
      "text/plain": [
       "array([[2, 6, 3],\n",
       "       [2, 3, 2],\n",
       "       [3, 9, 5],\n",
       "       [0, 3, 9],\n",
       "       [7, 4, 9]])"
      ]
     },
     "execution_count": 5,
     "metadata": {},
     "output_type": "execute_result"
    }
   ],
   "source": [
    "random_arr = np.random.randint(10,size=(5,3))\n",
    "random_arr"
   ]
  },
  {
   "cell_type": "code",
   "execution_count": null,
   "metadata": {},
   "outputs": [],
   "source": [
    "# unique() ; gives sorted distinct/unique elements of the arr"
   ]
  },
  {
   "cell_type": "code",
   "execution_count": 6,
   "metadata": {},
   "outputs": [
    {
     "data": {
      "text/plain": [
       "array([0, 2, 3, 4, 5, 6, 7, 9])"
      ]
     },
     "execution_count": 6,
     "metadata": {},
     "output_type": "execute_result"
    }
   ],
   "source": [
    "np.unique(random_arr)"
   ]
  },
  {
   "cell_type": "code",
   "execution_count": 7,
   "metadata": {},
   "outputs": [],
   "source": [
    "# terminology : 1-D arr : called vector\n",
    "#               2...n-D arr : matrix"
   ]
  },
  {
   "cell_type": "markdown",
   "metadata": {},
   "source": [
    "## viewing arr"
   ]
  },
  {
   "cell_type": "code",
   "execution_count": 14,
   "metadata": {},
   "outputs": [
    {
     "data": {
      "text/plain": [
       "array([[[15,  4,  3],\n",
       "        [19,  7, 14],\n",
       "        [ 8, 14, 10]],\n",
       "\n",
       "       [[ 8,  7,  6],\n",
       "        [ 4, 16,  7],\n",
       "        [12,  0, 11]],\n",
       "\n",
       "       [[ 6, 19, 12],\n",
       "        [ 5, 16,  0],\n",
       "        [ 2,  9, 14]],\n",
       "\n",
       "       [[ 6,  4, 14],\n",
       "        [ 9,  3,  3],\n",
       "        [ 8, 19, 16]]])"
      ]
     },
     "execution_count": 14,
     "metadata": {},
     "output_type": "execute_result"
    }
   ],
   "source": [
    "np.random.seed(7)\n",
    "arr = np.random.randint(20, size = (4,3,3))\n",
    "arr"
   ]
  },
  {
   "cell_type": "code",
   "execution_count": 19,
   "metadata": {},
   "outputs": [
    {
     "data": {
      "text/plain": [
       "array([[[15,  4],\n",
       "        [19,  7],\n",
       "        [ 8, 14]],\n",
       "\n",
       "       [[ 8,  7],\n",
       "        [ 4, 16],\n",
       "        [12,  0]],\n",
       "\n",
       "       [[ 6, 19],\n",
       "        [ 5, 16],\n",
       "        [ 2,  9]]])"
      ]
     },
     "execution_count": 19,
     "metadata": {},
     "output_type": "execute_result"
    }
   ],
   "source": [
    "arr[:3,:3,:2]"
   ]
  },
  {
   "cell_type": "code",
   "execution_count": 20,
   "metadata": {},
   "outputs": [],
   "source": [
    "#this is telling to display 3 lists out of 4, 3 rows of each of them , 2 colums of each those rows"
   ]
  },
  {
   "cell_type": "code",
   "execution_count": 22,
   "metadata": {},
   "outputs": [
    {
     "data": {
      "text/plain": [
       "array([[[[15,  4,  3],\n",
       "         [19,  7, 14],\n",
       "         [ 8, 14, 10]],\n",
       "\n",
       "        [[ 8,  7,  6],\n",
       "         [ 4, 16,  7],\n",
       "         [12,  0, 11]],\n",
       "\n",
       "        [[ 6, 19, 12],\n",
       "         [ 5, 16,  0],\n",
       "         [ 2,  9, 14]]],\n",
       "\n",
       "\n",
       "       [[[ 6,  4, 14],\n",
       "         [ 9,  3,  3],\n",
       "         [ 8, 19, 16]],\n",
       "\n",
       "        [[ 1,  0, 16],\n",
       "         [12,  7, 10],\n",
       "         [ 9,  3,  0]],\n",
       "\n",
       "        [[ 7,  0,  4],\n",
       "         [ 3,  1,  3],\n",
       "         [ 1, 19,  4]]]])"
      ]
     },
     "execution_count": 22,
     "metadata": {},
     "output_type": "execute_result"
    }
   ],
   "source": [
    "np.random.seed(7)\n",
    "arr_2 = np.random.randint(20, size = (2,3,3,3))\n",
    "arr_2"
   ]
  },
  {
   "cell_type": "code",
   "execution_count": 24,
   "metadata": {},
   "outputs": [
    {
     "data": {
      "text/plain": [
       "((2, 3, 3, 3), 4)"
      ]
     },
     "execution_count": 24,
     "metadata": {},
     "output_type": "execute_result"
    }
   ],
   "source": [
    "arr_2.shape, arr_2.ndim"
   ]
  },
  {
   "cell_type": "code",
   "execution_count": null,
   "metadata": {},
   "outputs": [],
   "source": [
    "#using slices to display differnt parts"
   ]
  },
  {
   "cell_type": "code",
   "execution_count": 44,
   "metadata": {},
   "outputs": [
    {
     "data": {
      "text/plain": [
       "array([[[[15,  4,  3],\n",
       "         [19,  7, 14]]],\n",
       "\n",
       "\n",
       "       [[[ 6,  4, 14],\n",
       "         [ 9,  3,  3]]]])"
      ]
     },
     "execution_count": 44,
     "metadata": {},
     "output_type": "execute_result"
    }
   ],
   "source": [
    "arr_2[slice(2),:1,:2,:3]"
   ]
  },
  {
   "cell_type": "code",
   "execution_count": 45,
   "metadata": {},
   "outputs": [
    {
     "data": {
      "text/plain": [
       "array([[[[15,  4,  3],\n",
       "         [19,  7, 14]]],\n",
       "\n",
       "\n",
       "       [[[ 6,  4, 14],\n",
       "         [ 9,  3,  3]]]])"
      ]
     },
     "execution_count": 45,
     "metadata": {},
     "output_type": "execute_result"
    }
   ],
   "source": [
    "arr_2[:2,:1,:2,:3]"
   ]
  },
  {
   "cell_type": "code",
   "execution_count": null,
   "metadata": {},
   "outputs": [],
   "source": []
  }
 ],
 "metadata": {
  "kernelspec": {
   "display_name": "Python 3",
   "language": "python",
   "name": "python3"
  },
  "language_info": {
   "codemirror_mode": {
    "name": "ipython",
    "version": 3
   },
   "file_extension": ".py",
   "mimetype": "text/x-python",
   "name": "python",
   "nbconvert_exporter": "python",
   "pygments_lexer": "ipython3",
   "version": "3.7.6"
  }
 },
 "nbformat": 4,
 "nbformat_minor": 4
}
